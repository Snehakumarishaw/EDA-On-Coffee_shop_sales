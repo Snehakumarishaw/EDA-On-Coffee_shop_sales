{
 "cells": [
  {
   "cell_type": "markdown",
   "id": "7a729858",
   "metadata": {},
   "source": [
    "# #Import the libraries"
   ]
  },
  {
   "cell_type": "code",
   "execution_count": 1,
   "id": "ca0a4e70",
   "metadata": {},
   "outputs": [],
   "source": [
    "import pandas as pd\n",
    "import numpy as np\n",
    "import matplotlib.pyplot as plt\n",
    "import seaborn as sns\n",
    "pd.set_option('display.max_column', None)\n",
    "import os\n",
    "import warnings\n",
    "warnings.filterwarnings('ignore')"
   ]
  },
  {
   "cell_type": "markdown",
   "id": "1bfb3634",
   "metadata": {},
   "source": [
    "# import datasets"
   ]
  },
  {
   "cell_type": "code",
   "execution_count": 2,
   "id": "eee7c735",
   "metadata": {},
   "outputs": [
    {
     "data": {
      "text/plain": [
       "['!DOCTYPE .html',\n",
       " '#lambda function is a small anonymous (n.py',\n",
       " '.anaconda',\n",
       " '.android',\n",
       " '.bash_history',\n",
       " '.cache',\n",
       " '.conda',\n",
       " '.condarc',\n",
       " '.config',\n",
       " '.continuum',\n",
       " '.eclipse',\n",
       " '.gitconfig',\n",
       " '.idlerc',\n",
       " '.ipynb_checkpoints',\n",
       " '.ipython',\n",
       " '.jdks',\n",
       " '.jupyter',\n",
       " '.m2',\n",
       " '.matplotlib',\n",
       " '.ms-ad',\n",
       " '.openjfx',\n",
       " '.p2',\n",
       " '.packettracer',\n",
       " '.redhat',\n",
       " '.vscode',\n",
       " 'anaconda3',\n",
       " 'AppData',\n",
       " 'Application Data',\n",
       " 'archive',\n",
       " 'archive.zip',\n",
       " 'arithmetic.py',\n",
       " 'bluej',\n",
       " 'Cisco Packet Tracer 8.2.2',\n",
       " 'Coffee Shop Sales.xlsx',\n",
       " 'Coffeee Shop Sales.xlsx',\n",
       " 'Contacts',\n",
       " 'Cookies',\n",
       " 'DATA ANALYTICS',\n",
       " 'data.csv',\n",
       " 'Desktop',\n",
       " 'Documents',\n",
       " 'Downloads',\n",
       " 'dump.sql',\n",
       " 'eclipse',\n",
       " 'eclipse-workspace',\n",
       " 'EDA On coffee shop sales.ipynb',\n",
       " 'Favorites',\n",
       " 'firstclass.java',\n",
       " 'FOR YOU.html',\n",
       " 'from abc import ABC, abstractmethod.txt',\n",
       " 'git',\n",
       " 'IdeaProjects',\n",
       " 'IntelGraphicsProfiles',\n",
       " 'INTRODUCTION PAGE.HTML',\n",
       " 'jcalendar-tz-1.3.3-4.jar',\n",
       " 'Links',\n",
       " 'Local Settings',\n",
       " 'MODEL OUTPUT',\n",
       " 'MODEL usage.ipynb',\n",
       " 'Music',\n",
       " 'My Documents',\n",
       " 'NetHood',\n",
       " 'NTUSER.DAT',\n",
       " 'ntuser.dat.LOG1',\n",
       " 'ntuser.dat.LOG2',\n",
       " 'NTUSER.DAT{f02eb0e5-91df-11ef-9f76-9ba303401ccd}.TM.blf',\n",
       " 'NTUSER.DAT{f02eb0e5-91df-11ef-9f76-9ba303401ccd}.TMContainer00000000000000000001.regtrans-ms',\n",
       " 'NTUSER.DAT{f02eb0e5-91df-11ef-9f76-9ba303401ccd}.TMContainer00000000000000000002.regtrans-ms',\n",
       " 'ntuser.ini',\n",
       " 'OneDrive',\n",
       " 'Pictures',\n",
       " 'PrintHood',\n",
       " 'Python',\n",
       " 'python1.py',\n",
       " 'Recent',\n",
       " 'ResultSet2xml.jar',\n",
       " 'Saved Games',\n",
       " 'Searches',\n",
       " 'SendTo',\n",
       " 'sfc',\n",
       " 'SNEHASHAWJAVA',\n",
       " 'Start Menu',\n",
       " 'Templates',\n",
       " 'Untitled Folder',\n",
       " 'Untitled-1html.html',\n",
       " 'Untitled-2.py',\n",
       " 'Untitled.ipynb',\n",
       " 'untitled.txt',\n",
       " 'Untitled1.ipynb',\n",
       " 'untitled1.txt',\n",
       " 'Untitled2.ipynb',\n",
       " 'Untitled3.ipynb',\n",
       " 'Untitled4.ipynb',\n",
       " 'Untitled5.ipynb',\n",
       " 'Videos',\n",
       " 'web site.html',\n",
       " 'XYZ pvt.ltd.ipynb',\n",
       " 'XYZ-Copy1.PVT',\n",
       " 'XYZ.joblib',\n",
       " 'XYZ.PVT']"
      ]
     },
     "execution_count": 2,
     "metadata": {},
     "output_type": "execute_result"
    }
   ],
   "source": [
    "#list the files in the folder \n",
    "os.listdir()"
   ]
  },
  {
   "cell_type": "code",
   "execution_count": 3,
   "id": "994fd812",
   "metadata": {},
   "outputs": [],
   "source": [
    "#import dataset\n",
    "df = pd.read_excel('Coffee shop sales.xlsx')"
   ]
  },
  {
   "cell_type": "markdown",
   "id": "6a67c880",
   "metadata": {},
   "source": [
    "# Data Wrangling"
   ]
  },
  {
   "cell_type": "code",
   "execution_count": 4,
   "id": "6de6aba2",
   "metadata": {},
   "outputs": [
    {
     "data": {
      "text/html": [
       "<div>\n",
       "<style scoped>\n",
       "    .dataframe tbody tr th:only-of-type {\n",
       "        vertical-align: middle;\n",
       "    }\n",
       "\n",
       "    .dataframe tbody tr th {\n",
       "        vertical-align: top;\n",
       "    }\n",
       "\n",
       "    .dataframe thead th {\n",
       "        text-align: right;\n",
       "    }\n",
       "</style>\n",
       "<table border=\"1\" class=\"dataframe\">\n",
       "  <thead>\n",
       "    <tr style=\"text-align: right;\">\n",
       "      <th></th>\n",
       "      <th>transaction_id</th>\n",
       "      <th>transaction_date</th>\n",
       "      <th>transaction_time</th>\n",
       "      <th>transaction_qty</th>\n",
       "      <th>store_id</th>\n",
       "      <th>store_location</th>\n",
       "      <th>product_id</th>\n",
       "      <th>unit_price</th>\n",
       "      <th>product_category</th>\n",
       "      <th>product_type</th>\n",
       "      <th>product_detail</th>\n",
       "    </tr>\n",
       "  </thead>\n",
       "  <tbody>\n",
       "    <tr>\n",
       "      <th>0</th>\n",
       "      <td>1</td>\n",
       "      <td>2023-01-01</td>\n",
       "      <td>07:06:11</td>\n",
       "      <td>2</td>\n",
       "      <td>5</td>\n",
       "      <td>Lower Manhattan</td>\n",
       "      <td>32</td>\n",
       "      <td>3.0</td>\n",
       "      <td>Coffee</td>\n",
       "      <td>Gourmet brewed coffee</td>\n",
       "      <td>Ethiopia Rg</td>\n",
       "    </tr>\n",
       "    <tr>\n",
       "      <th>1</th>\n",
       "      <td>2</td>\n",
       "      <td>2023-01-01</td>\n",
       "      <td>07:08:56</td>\n",
       "      <td>2</td>\n",
       "      <td>5</td>\n",
       "      <td>Lower Manhattan</td>\n",
       "      <td>57</td>\n",
       "      <td>3.1</td>\n",
       "      <td>Tea</td>\n",
       "      <td>Brewed Chai tea</td>\n",
       "      <td>Spicy Eye Opener Chai Lg</td>\n",
       "    </tr>\n",
       "    <tr>\n",
       "      <th>2</th>\n",
       "      <td>3</td>\n",
       "      <td>2023-01-01</td>\n",
       "      <td>07:14:04</td>\n",
       "      <td>2</td>\n",
       "      <td>5</td>\n",
       "      <td>Lower Manhattan</td>\n",
       "      <td>59</td>\n",
       "      <td>4.5</td>\n",
       "      <td>Drinking Chocolate</td>\n",
       "      <td>Hot chocolate</td>\n",
       "      <td>Dark chocolate Lg</td>\n",
       "    </tr>\n",
       "    <tr>\n",
       "      <th>3</th>\n",
       "      <td>4</td>\n",
       "      <td>2023-01-01</td>\n",
       "      <td>07:20:24</td>\n",
       "      <td>1</td>\n",
       "      <td>5</td>\n",
       "      <td>Lower Manhattan</td>\n",
       "      <td>22</td>\n",
       "      <td>2.0</td>\n",
       "      <td>Coffee</td>\n",
       "      <td>Drip coffee</td>\n",
       "      <td>Our Old Time Diner Blend Sm</td>\n",
       "    </tr>\n",
       "    <tr>\n",
       "      <th>4</th>\n",
       "      <td>5</td>\n",
       "      <td>2023-01-01</td>\n",
       "      <td>07:22:41</td>\n",
       "      <td>2</td>\n",
       "      <td>5</td>\n",
       "      <td>Lower Manhattan</td>\n",
       "      <td>57</td>\n",
       "      <td>3.1</td>\n",
       "      <td>Tea</td>\n",
       "      <td>Brewed Chai tea</td>\n",
       "      <td>Spicy Eye Opener Chai Lg</td>\n",
       "    </tr>\n",
       "  </tbody>\n",
       "</table>\n",
       "</div>"
      ],
      "text/plain": [
       "   transaction_id transaction_date transaction_time  transaction_qty  \\\n",
       "0               1       2023-01-01         07:06:11                2   \n",
       "1               2       2023-01-01         07:08:56                2   \n",
       "2               3       2023-01-01         07:14:04                2   \n",
       "3               4       2023-01-01         07:20:24                1   \n",
       "4               5       2023-01-01         07:22:41                2   \n",
       "\n",
       "   store_id   store_location  product_id  unit_price    product_category  \\\n",
       "0         5  Lower Manhattan          32         3.0              Coffee   \n",
       "1         5  Lower Manhattan          57         3.1                 Tea   \n",
       "2         5  Lower Manhattan          59         4.5  Drinking Chocolate   \n",
       "3         5  Lower Manhattan          22         2.0              Coffee   \n",
       "4         5  Lower Manhattan          57         3.1                 Tea   \n",
       "\n",
       "            product_type               product_detail  \n",
       "0  Gourmet brewed coffee                  Ethiopia Rg  \n",
       "1        Brewed Chai tea     Spicy Eye Opener Chai Lg  \n",
       "2          Hot chocolate            Dark chocolate Lg  \n",
       "3            Drip coffee  Our Old Time Diner Blend Sm  \n",
       "4        Brewed Chai tea     Spicy Eye Opener Chai Lg  "
      ]
     },
     "execution_count": 4,
     "metadata": {},
     "output_type": "execute_result"
    }
   ],
   "source": [
    "#view the first five rows in the table\n",
    "df.head()"
   ]
  },
  {
   "cell_type": "code",
   "execution_count": 5,
   "id": "0bc9abb6",
   "metadata": {},
   "outputs": [
    {
     "data": {
      "text/plain": [
       "(149116, 11)"
      ]
     },
     "execution_count": 5,
     "metadata": {},
     "output_type": "execute_result"
    }
   ],
   "source": [
    "# check the shape of the table\n",
    "df.shape"
   ]
  },
  {
   "cell_type": "code",
   "execution_count": 6,
   "id": "62575708",
   "metadata": {},
   "outputs": [
    {
     "data": {
      "text/plain": [
       "transaction_id      0\n",
       "transaction_date    0\n",
       "transaction_time    0\n",
       "transaction_qty     0\n",
       "store_id            0\n",
       "store_location      0\n",
       "product_id          0\n",
       "unit_price          0\n",
       "product_category    0\n",
       "product_type        0\n",
       "product_detail      0\n",
       "dtype: int64"
      ]
     },
     "execution_count": 6,
     "metadata": {},
     "output_type": "execute_result"
    }
   ],
   "source": [
    "#check for missing values\n",
    "df.isna().sum()"
   ]
  },
  {
   "cell_type": "code",
   "execution_count": 12,
   "id": "6b63f127",
   "metadata": {},
   "outputs": [
    {
     "data": {
      "text/plain": [
       "0"
      ]
     },
     "execution_count": 12,
     "metadata": {},
     "output_type": "execute_result"
    }
   ],
   "source": [
    "#check for duplicates\n",
    "df.duplicated().sum()"
   ]
  },
  {
   "cell_type": "code",
   "execution_count": 7,
   "id": "c74540d0",
   "metadata": {},
   "outputs": [
    {
     "data": {
      "text/plain": [
       "transaction_id               int64\n",
       "transaction_date    datetime64[ns]\n",
       "transaction_time            object\n",
       "transaction_qty              int64\n",
       "store_id                     int64\n",
       "store_location              object\n",
       "product_id                   int64\n",
       "unit_price                 float64\n",
       "product_category            object\n",
       "product_type                object\n",
       "product_detail              object\n",
       "dtype: object"
      ]
     },
     "execution_count": 7,
     "metadata": {},
     "output_type": "execute_result"
    }
   ],
   "source": [
    "#check for datatypes\n",
    "df.dtypes"
   ]
  },
  {
   "cell_type": "code",
   "execution_count": 8,
   "id": "63011616",
   "metadata": {},
   "outputs": [
    {
     "data": {
      "text/html": [
       "<div>\n",
       "<style scoped>\n",
       "    .dataframe tbody tr th:only-of-type {\n",
       "        vertical-align: middle;\n",
       "    }\n",
       "\n",
       "    .dataframe tbody tr th {\n",
       "        vertical-align: top;\n",
       "    }\n",
       "\n",
       "    .dataframe thead th {\n",
       "        text-align: right;\n",
       "    }\n",
       "</style>\n",
       "<table border=\"1\" class=\"dataframe\">\n",
       "  <thead>\n",
       "    <tr style=\"text-align: right;\">\n",
       "      <th></th>\n",
       "      <th>transaction_id</th>\n",
       "      <th>transaction_qty</th>\n",
       "      <th>store_id</th>\n",
       "      <th>product_id</th>\n",
       "      <th>unit_price</th>\n",
       "    </tr>\n",
       "  </thead>\n",
       "  <tbody>\n",
       "    <tr>\n",
       "      <th>count</th>\n",
       "      <td>149116.000000</td>\n",
       "      <td>149116.000000</td>\n",
       "      <td>149116.000000</td>\n",
       "      <td>149116.000000</td>\n",
       "      <td>149116.000000</td>\n",
       "    </tr>\n",
       "    <tr>\n",
       "      <th>mean</th>\n",
       "      <td>74737.371872</td>\n",
       "      <td>1.438276</td>\n",
       "      <td>5.342063</td>\n",
       "      <td>47.918607</td>\n",
       "      <td>3.382219</td>\n",
       "    </tr>\n",
       "    <tr>\n",
       "      <th>std</th>\n",
       "      <td>43153.600016</td>\n",
       "      <td>0.542509</td>\n",
       "      <td>2.074241</td>\n",
       "      <td>17.930020</td>\n",
       "      <td>2.658723</td>\n",
       "    </tr>\n",
       "    <tr>\n",
       "      <th>min</th>\n",
       "      <td>1.000000</td>\n",
       "      <td>1.000000</td>\n",
       "      <td>3.000000</td>\n",
       "      <td>1.000000</td>\n",
       "      <td>0.800000</td>\n",
       "    </tr>\n",
       "    <tr>\n",
       "      <th>25%</th>\n",
       "      <td>37335.750000</td>\n",
       "      <td>1.000000</td>\n",
       "      <td>3.000000</td>\n",
       "      <td>33.000000</td>\n",
       "      <td>2.500000</td>\n",
       "    </tr>\n",
       "    <tr>\n",
       "      <th>50%</th>\n",
       "      <td>74727.500000</td>\n",
       "      <td>1.000000</td>\n",
       "      <td>5.000000</td>\n",
       "      <td>47.000000</td>\n",
       "      <td>3.000000</td>\n",
       "    </tr>\n",
       "    <tr>\n",
       "      <th>75%</th>\n",
       "      <td>112094.250000</td>\n",
       "      <td>2.000000</td>\n",
       "      <td>8.000000</td>\n",
       "      <td>60.000000</td>\n",
       "      <td>3.750000</td>\n",
       "    </tr>\n",
       "    <tr>\n",
       "      <th>max</th>\n",
       "      <td>149456.000000</td>\n",
       "      <td>8.000000</td>\n",
       "      <td>8.000000</td>\n",
       "      <td>87.000000</td>\n",
       "      <td>45.000000</td>\n",
       "    </tr>\n",
       "  </tbody>\n",
       "</table>\n",
       "</div>"
      ],
      "text/plain": [
       "       transaction_id  transaction_qty       store_id     product_id  \\\n",
       "count   149116.000000    149116.000000  149116.000000  149116.000000   \n",
       "mean     74737.371872         1.438276       5.342063      47.918607   \n",
       "std      43153.600016         0.542509       2.074241      17.930020   \n",
       "min          1.000000         1.000000       3.000000       1.000000   \n",
       "25%      37335.750000         1.000000       3.000000      33.000000   \n",
       "50%      74727.500000         1.000000       5.000000      47.000000   \n",
       "75%     112094.250000         2.000000       8.000000      60.000000   \n",
       "max     149456.000000         8.000000       8.000000      87.000000   \n",
       "\n",
       "          unit_price  \n",
       "count  149116.000000  \n",
       "mean        3.382219  \n",
       "std         2.658723  \n",
       "min         0.800000  \n",
       "25%         2.500000  \n",
       "50%         3.000000  \n",
       "75%         3.750000  \n",
       "max        45.000000  "
      ]
     },
     "execution_count": 8,
     "metadata": {},
     "output_type": "execute_result"
    }
   ],
   "source": [
    "#check for summary statistics\n",
    "numeric_col = df.select_dtypes(include='number')\n",
    "numeric_col.describe()"
   ]
  },
  {
   "cell_type": "markdown",
   "id": "708348ab",
   "metadata": {},
   "source": [
    "# Feature Enginneering"
   ]
  },
  {
   "cell_type": "code",
   "execution_count": 9,
   "id": "578b4e86",
   "metadata": {},
   "outputs": [],
   "source": [
    "# make a copy of the data\n",
    "data = df.copy()"
   ]
  },
  {
   "cell_type": "code",
   "execution_count": 10,
   "id": "a89a317f",
   "metadata": {},
   "outputs": [
    {
     "data": {
      "text/html": [
       "<div>\n",
       "<style scoped>\n",
       "    .dataframe tbody tr th:only-of-type {\n",
       "        vertical-align: middle;\n",
       "    }\n",
       "\n",
       "    .dataframe tbody tr th {\n",
       "        vertical-align: top;\n",
       "    }\n",
       "\n",
       "    .dataframe thead th {\n",
       "        text-align: right;\n",
       "    }\n",
       "</style>\n",
       "<table border=\"1\" class=\"dataframe\">\n",
       "  <thead>\n",
       "    <tr style=\"text-align: right;\">\n",
       "      <th></th>\n",
       "      <th>transaction_id</th>\n",
       "      <th>transaction_date</th>\n",
       "      <th>transaction_time</th>\n",
       "      <th>transaction_qty</th>\n",
       "      <th>store_id</th>\n",
       "      <th>store_location</th>\n",
       "      <th>product_id</th>\n",
       "      <th>unit_price</th>\n",
       "      <th>product_category</th>\n",
       "      <th>product_type</th>\n",
       "      <th>product_detail</th>\n",
       "    </tr>\n",
       "  </thead>\n",
       "  <tbody>\n",
       "    <tr>\n",
       "      <th>0</th>\n",
       "      <td>1</td>\n",
       "      <td>2023-01-01</td>\n",
       "      <td>07:06:11</td>\n",
       "      <td>2</td>\n",
       "      <td>5</td>\n",
       "      <td>Lower Manhattan</td>\n",
       "      <td>32</td>\n",
       "      <td>3.0</td>\n",
       "      <td>Coffee</td>\n",
       "      <td>Gourmet brewed coffee</td>\n",
       "      <td>Ethiopia Rg</td>\n",
       "    </tr>\n",
       "    <tr>\n",
       "      <th>1</th>\n",
       "      <td>2</td>\n",
       "      <td>2023-01-01</td>\n",
       "      <td>07:08:56</td>\n",
       "      <td>2</td>\n",
       "      <td>5</td>\n",
       "      <td>Lower Manhattan</td>\n",
       "      <td>57</td>\n",
       "      <td>3.1</td>\n",
       "      <td>Tea</td>\n",
       "      <td>Brewed Chai tea</td>\n",
       "      <td>Spicy Eye Opener Chai Lg</td>\n",
       "    </tr>\n",
       "    <tr>\n",
       "      <th>2</th>\n",
       "      <td>3</td>\n",
       "      <td>2023-01-01</td>\n",
       "      <td>07:14:04</td>\n",
       "      <td>2</td>\n",
       "      <td>5</td>\n",
       "      <td>Lower Manhattan</td>\n",
       "      <td>59</td>\n",
       "      <td>4.5</td>\n",
       "      <td>Drinking Chocolate</td>\n",
       "      <td>Hot chocolate</td>\n",
       "      <td>Dark chocolate Lg</td>\n",
       "    </tr>\n",
       "    <tr>\n",
       "      <th>3</th>\n",
       "      <td>4</td>\n",
       "      <td>2023-01-01</td>\n",
       "      <td>07:20:24</td>\n",
       "      <td>1</td>\n",
       "      <td>5</td>\n",
       "      <td>Lower Manhattan</td>\n",
       "      <td>22</td>\n",
       "      <td>2.0</td>\n",
       "      <td>Coffee</td>\n",
       "      <td>Drip coffee</td>\n",
       "      <td>Our Old Time Diner Blend Sm</td>\n",
       "    </tr>\n",
       "    <tr>\n",
       "      <th>4</th>\n",
       "      <td>5</td>\n",
       "      <td>2023-01-01</td>\n",
       "      <td>07:22:41</td>\n",
       "      <td>2</td>\n",
       "      <td>5</td>\n",
       "      <td>Lower Manhattan</td>\n",
       "      <td>57</td>\n",
       "      <td>3.1</td>\n",
       "      <td>Tea</td>\n",
       "      <td>Brewed Chai tea</td>\n",
       "      <td>Spicy Eye Opener Chai Lg</td>\n",
       "    </tr>\n",
       "  </tbody>\n",
       "</table>\n",
       "</div>"
      ],
      "text/plain": [
       "   transaction_id transaction_date transaction_time  transaction_qty  \\\n",
       "0               1       2023-01-01         07:06:11                2   \n",
       "1               2       2023-01-01         07:08:56                2   \n",
       "2               3       2023-01-01         07:14:04                2   \n",
       "3               4       2023-01-01         07:20:24                1   \n",
       "4               5       2023-01-01         07:22:41                2   \n",
       "\n",
       "   store_id   store_location  product_id  unit_price    product_category  \\\n",
       "0         5  Lower Manhattan          32         3.0              Coffee   \n",
       "1         5  Lower Manhattan          57         3.1                 Tea   \n",
       "2         5  Lower Manhattan          59         4.5  Drinking Chocolate   \n",
       "3         5  Lower Manhattan          22         2.0              Coffee   \n",
       "4         5  Lower Manhattan          57         3.1                 Tea   \n",
       "\n",
       "            product_type               product_detail  \n",
       "0  Gourmet brewed coffee                  Ethiopia Rg  \n",
       "1        Brewed Chai tea     Spicy Eye Opener Chai Lg  \n",
       "2          Hot chocolate            Dark chocolate Lg  \n",
       "3            Drip coffee  Our Old Time Diner Blend Sm  \n",
       "4        Brewed Chai tea     Spicy Eye Opener Chai Lg  "
      ]
     },
     "execution_count": 10,
     "metadata": {},
     "output_type": "execute_result"
    }
   ],
   "source": [
    "data.head()"
   ]
  },
  {
   "cell_type": "markdown",
   "id": "590fa15b",
   "metadata": {},
   "source": [
    "# create new features"
   ]
  },
  {
   "cell_type": "code",
   "execution_count": 11,
   "id": "37fdc95c",
   "metadata": {},
   "outputs": [],
   "source": [
    "\"\"\"\"\"creating a coloumn \"transaction_timestamp\" by combining\n",
    "       transaction_date and transaction_time\"\"\"\"\"\n",
    "\n",
    "data['transaction_timestamp'] = data['transaction_date'].astype(str) + ' ' + data['transaction_time'].astype(str)\n"
   ]
  },
  {
   "cell_type": "code",
   "execution_count": 12,
   "id": "a56b6175",
   "metadata": {},
   "outputs": [],
   "source": [
    "#converting  the transaction_time stamp to datetime datatype\n",
    "\n",
    "data['transaction_timestamp'] = pd.to_datetime(data['transaction_timestamp'])"
   ]
  },
  {
   "cell_type": "code",
   "execution_count": 13,
   "id": "a7b83b05",
   "metadata": {},
   "outputs": [
    {
     "data": {
      "text/plain": [
       "transaction_id                    int64\n",
       "transaction_date         datetime64[ns]\n",
       "transaction_time                 object\n",
       "transaction_qty                   int64\n",
       "store_id                          int64\n",
       "store_location                   object\n",
       "product_id                        int64\n",
       "unit_price                      float64\n",
       "product_category                 object\n",
       "product_type                     object\n",
       "product_detail                   object\n",
       "transaction_timestamp    datetime64[ns]\n",
       "dtype: object"
      ]
     },
     "execution_count": 13,
     "metadata": {},
     "output_type": "execute_result"
    }
   ],
   "source": [
    "#confirm that column has  been created \n",
    "data.dtypes"
   ]
  },
  {
   "cell_type": "code",
   "execution_count": 14,
   "id": "5a009da0",
   "metadata": {},
   "outputs": [],
   "source": [
    "#convert transaction date column into datetime format \n",
    "data['transaction_date'] = pd.to_datetime(data['transaction_date'])\n",
    "\n",
    "#create a new column transaction_month \n",
    "data['transaction_month'] = data['transaction_date'].dt.month"
   ]
  },
  {
   "cell_type": "code",
   "execution_count": 15,
   "id": "fb0b4aed",
   "metadata": {},
   "outputs": [],
   "source": [
    "#create a new column transaction_monthname\n",
    "data['transaction_monthname'] = data['transaction_date'].dt.month_name()"
   ]
  },
  {
   "cell_type": "markdown",
   "id": "e208a284",
   "metadata": {},
   "source": [
    "# create a new column transcarion_day and transaction_dayname"
   ]
  },
  {
   "cell_type": "code",
   "execution_count": 16,
   "id": "2b957652",
   "metadata": {},
   "outputs": [],
   "source": [
    "#crteating transaction day column\n",
    "data['day_of_week'] = data['transaction_date'].dt.day_of_week"
   ]
  },
  {
   "cell_type": "code",
   "execution_count": 17,
   "id": "d934cee8",
   "metadata": {},
   "outputs": [],
   "source": [
    "#creating a transaction_dayname column\n",
    "data['day'] = data['transaction_date'].dt.day_name()"
   ]
  },
  {
   "cell_type": "code",
   "execution_count": 18,
   "id": "281ba322",
   "metadata": {},
   "outputs": [],
   "source": [
    "#create a new column transaction_hour\n",
    "data['transaction_hour'] = data['transaction_timestamp'].dt.hour\n"
   ]
  },
  {
   "cell_type": "markdown",
   "id": "b50968b3",
   "metadata": {},
   "source": [
    "#create new column revenue (transaction qty * price)"
   ]
  },
  {
   "cell_type": "code",
   "execution_count": 19,
   "id": "fb291aa7",
   "metadata": {},
   "outputs": [],
   "source": [
    "\n",
    "# create a new column revenue  (transaction_qty * price)and Calculate revenue\n",
    "data['revenue'] = data['transaction_qty'] * data['unit_price']\n",
    "\n"
   ]
  },
  {
   "cell_type": "markdown",
   "id": "be8cefc4",
   "metadata": {},
   "source": [
    "#confirm a new column by viewing  a sample of the table \n",
    "data.head()"
   ]
  },
  {
   "cell_type": "code",
   "execution_count": 20,
   "id": "0284e516",
   "metadata": {},
   "outputs": [
    {
     "data": {
      "text/html": [
       "<div>\n",
       "<style scoped>\n",
       "    .dataframe tbody tr th:only-of-type {\n",
       "        vertical-align: middle;\n",
       "    }\n",
       "\n",
       "    .dataframe tbody tr th {\n",
       "        vertical-align: top;\n",
       "    }\n",
       "\n",
       "    .dataframe thead th {\n",
       "        text-align: right;\n",
       "    }\n",
       "</style>\n",
       "<table border=\"1\" class=\"dataframe\">\n",
       "  <thead>\n",
       "    <tr style=\"text-align: right;\">\n",
       "      <th></th>\n",
       "      <th>transaction_id</th>\n",
       "      <th>transaction_date</th>\n",
       "      <th>transaction_time</th>\n",
       "      <th>transaction_qty</th>\n",
       "      <th>store_id</th>\n",
       "      <th>store_location</th>\n",
       "      <th>product_id</th>\n",
       "      <th>unit_price</th>\n",
       "      <th>product_category</th>\n",
       "      <th>product_type</th>\n",
       "      <th>product_detail</th>\n",
       "      <th>transaction_timestamp</th>\n",
       "      <th>transaction_month</th>\n",
       "      <th>transaction_monthname</th>\n",
       "      <th>day_of_week</th>\n",
       "      <th>day</th>\n",
       "      <th>transaction_hour</th>\n",
       "      <th>revenue</th>\n",
       "    </tr>\n",
       "  </thead>\n",
       "  <tbody>\n",
       "    <tr>\n",
       "      <th>0</th>\n",
       "      <td>1</td>\n",
       "      <td>2023-01-01</td>\n",
       "      <td>07:06:11</td>\n",
       "      <td>2</td>\n",
       "      <td>5</td>\n",
       "      <td>Lower Manhattan</td>\n",
       "      <td>32</td>\n",
       "      <td>3.0</td>\n",
       "      <td>Coffee</td>\n",
       "      <td>Gourmet brewed coffee</td>\n",
       "      <td>Ethiopia Rg</td>\n",
       "      <td>2023-01-01 07:06:11</td>\n",
       "      <td>1</td>\n",
       "      <td>January</td>\n",
       "      <td>6</td>\n",
       "      <td>Sunday</td>\n",
       "      <td>7</td>\n",
       "      <td>6.0</td>\n",
       "    </tr>\n",
       "    <tr>\n",
       "      <th>1</th>\n",
       "      <td>2</td>\n",
       "      <td>2023-01-01</td>\n",
       "      <td>07:08:56</td>\n",
       "      <td>2</td>\n",
       "      <td>5</td>\n",
       "      <td>Lower Manhattan</td>\n",
       "      <td>57</td>\n",
       "      <td>3.1</td>\n",
       "      <td>Tea</td>\n",
       "      <td>Brewed Chai tea</td>\n",
       "      <td>Spicy Eye Opener Chai Lg</td>\n",
       "      <td>2023-01-01 07:08:56</td>\n",
       "      <td>1</td>\n",
       "      <td>January</td>\n",
       "      <td>6</td>\n",
       "      <td>Sunday</td>\n",
       "      <td>7</td>\n",
       "      <td>6.2</td>\n",
       "    </tr>\n",
       "    <tr>\n",
       "      <th>2</th>\n",
       "      <td>3</td>\n",
       "      <td>2023-01-01</td>\n",
       "      <td>07:14:04</td>\n",
       "      <td>2</td>\n",
       "      <td>5</td>\n",
       "      <td>Lower Manhattan</td>\n",
       "      <td>59</td>\n",
       "      <td>4.5</td>\n",
       "      <td>Drinking Chocolate</td>\n",
       "      <td>Hot chocolate</td>\n",
       "      <td>Dark chocolate Lg</td>\n",
       "      <td>2023-01-01 07:14:04</td>\n",
       "      <td>1</td>\n",
       "      <td>January</td>\n",
       "      <td>6</td>\n",
       "      <td>Sunday</td>\n",
       "      <td>7</td>\n",
       "      <td>9.0</td>\n",
       "    </tr>\n",
       "    <tr>\n",
       "      <th>3</th>\n",
       "      <td>4</td>\n",
       "      <td>2023-01-01</td>\n",
       "      <td>07:20:24</td>\n",
       "      <td>1</td>\n",
       "      <td>5</td>\n",
       "      <td>Lower Manhattan</td>\n",
       "      <td>22</td>\n",
       "      <td>2.0</td>\n",
       "      <td>Coffee</td>\n",
       "      <td>Drip coffee</td>\n",
       "      <td>Our Old Time Diner Blend Sm</td>\n",
       "      <td>2023-01-01 07:20:24</td>\n",
       "      <td>1</td>\n",
       "      <td>January</td>\n",
       "      <td>6</td>\n",
       "      <td>Sunday</td>\n",
       "      <td>7</td>\n",
       "      <td>2.0</td>\n",
       "    </tr>\n",
       "    <tr>\n",
       "      <th>4</th>\n",
       "      <td>5</td>\n",
       "      <td>2023-01-01</td>\n",
       "      <td>07:22:41</td>\n",
       "      <td>2</td>\n",
       "      <td>5</td>\n",
       "      <td>Lower Manhattan</td>\n",
       "      <td>57</td>\n",
       "      <td>3.1</td>\n",
       "      <td>Tea</td>\n",
       "      <td>Brewed Chai tea</td>\n",
       "      <td>Spicy Eye Opener Chai Lg</td>\n",
       "      <td>2023-01-01 07:22:41</td>\n",
       "      <td>1</td>\n",
       "      <td>January</td>\n",
       "      <td>6</td>\n",
       "      <td>Sunday</td>\n",
       "      <td>7</td>\n",
       "      <td>6.2</td>\n",
       "    </tr>\n",
       "  </tbody>\n",
       "</table>\n",
       "</div>"
      ],
      "text/plain": [
       "   transaction_id transaction_date transaction_time  transaction_qty  \\\n",
       "0               1       2023-01-01         07:06:11                2   \n",
       "1               2       2023-01-01         07:08:56                2   \n",
       "2               3       2023-01-01         07:14:04                2   \n",
       "3               4       2023-01-01         07:20:24                1   \n",
       "4               5       2023-01-01         07:22:41                2   \n",
       "\n",
       "   store_id   store_location  product_id  unit_price    product_category  \\\n",
       "0         5  Lower Manhattan          32         3.0              Coffee   \n",
       "1         5  Lower Manhattan          57         3.1                 Tea   \n",
       "2         5  Lower Manhattan          59         4.5  Drinking Chocolate   \n",
       "3         5  Lower Manhattan          22         2.0              Coffee   \n",
       "4         5  Lower Manhattan          57         3.1                 Tea   \n",
       "\n",
       "            product_type               product_detail transaction_timestamp  \\\n",
       "0  Gourmet brewed coffee                  Ethiopia Rg   2023-01-01 07:06:11   \n",
       "1        Brewed Chai tea     Spicy Eye Opener Chai Lg   2023-01-01 07:08:56   \n",
       "2          Hot chocolate            Dark chocolate Lg   2023-01-01 07:14:04   \n",
       "3            Drip coffee  Our Old Time Diner Blend Sm   2023-01-01 07:20:24   \n",
       "4        Brewed Chai tea     Spicy Eye Opener Chai Lg   2023-01-01 07:22:41   \n",
       "\n",
       "   transaction_month transaction_monthname  day_of_week     day  \\\n",
       "0                  1               January            6  Sunday   \n",
       "1                  1               January            6  Sunday   \n",
       "2                  1               January            6  Sunday   \n",
       "3                  1               January            6  Sunday   \n",
       "4                  1               January            6  Sunday   \n",
       "\n",
       "   transaction_hour  revenue  \n",
       "0                 7      6.0  \n",
       "1                 7      6.2  \n",
       "2                 7      9.0  \n",
       "3                 7      2.0  \n",
       "4                 7      6.2  "
      ]
     },
     "execution_count": 20,
     "metadata": {},
     "output_type": "execute_result"
    }
   ],
   "source": [
    "data.head()"
   ]
  },
  {
   "cell_type": "markdown",
   "id": "943ebbf8",
   "metadata": {},
   "source": [
    "# DATA EXPLORATION"
   ]
  },
  {
   "cell_type": "code",
   "execution_count": 21,
   "id": "853559a9",
   "metadata": {},
   "outputs": [
    {
     "data": {
      "text/plain": [
       "Timestamp('2023-01-01 07:06:11')"
      ]
     },
     "execution_count": 21,
     "metadata": {},
     "output_type": "execute_result"
    }
   ],
   "source": [
    "#check earliest transaction date\n",
    "data['transaction_timestamp'].min()"
   ]
  },
  {
   "cell_type": "code",
   "execution_count": 22,
   "id": "bd59d7a3",
   "metadata": {},
   "outputs": [
    {
     "data": {
      "text/plain": [
       "Timestamp('2023-06-30 20:57:19')"
      ]
     },
     "execution_count": 22,
     "metadata": {},
     "output_type": "execute_result"
    }
   ],
   "source": [
    "#check latest transaction date\n",
    "data['transaction_timestamp'].max()"
   ]
  },
  {
   "cell_type": "code",
   "execution_count": 23,
   "id": "cab88409",
   "metadata": {},
   "outputs": [
    {
     "data": {
      "text/plain": [
       "transaction_hour\n",
       "6      4594\n",
       "7     13428\n",
       "8     17654\n",
       "9     17764\n",
       "10    18545\n",
       "11     9766\n",
       "12     8708\n",
       "13     8714\n",
       "14     8933\n",
       "15     8979\n",
       "16     9093\n",
       "17     8745\n",
       "18     7498\n",
       "19     6092\n",
       "20      603\n",
       "Name: count, dtype: int64"
      ]
     },
     "execution_count": 23,
     "metadata": {},
     "output_type": "execute_result"
    }
   ],
   "source": [
    "#check the unique transaction hours\n",
    "data['transaction_hour'].value_counts().sort_index(ascending=True)"
   ]
  },
  {
   "cell_type": "code",
   "execution_count": 24,
   "id": "eebb3788",
   "metadata": {},
   "outputs": [
    {
     "data": {
      "text/plain": [
       "transaction_qty\n",
       "1    87159\n",
       "2    58642\n",
       "3     3279\n",
       "4       23\n",
       "8       10\n",
       "6        3\n",
       "Name: count, dtype: int64"
      ]
     },
     "execution_count": 24,
     "metadata": {},
     "output_type": "execute_result"
    }
   ],
   "source": [
    "#check the unique transaction qunatity\n",
    "data['transaction_qty'].value_counts()"
   ]
  },
  {
   "cell_type": "code",
   "execution_count": 25,
   "id": "5107829b",
   "metadata": {},
   "outputs": [
    {
     "data": {
      "text/plain": [
       "3"
      ]
     },
     "execution_count": 25,
     "metadata": {},
     "output_type": "execute_result"
    }
   ],
   "source": [
    "#check the number of stores\n",
    "data['store_id'].nunique()"
   ]
  },
  {
   "cell_type": "code",
   "execution_count": 26,
   "id": "df2a19e4",
   "metadata": {},
   "outputs": [
    {
     "data": {
      "text/plain": [
       "array(['Lower Manhattan', \"Hell's Kitchen\", 'Astoria'], dtype=object)"
      ]
     },
     "execution_count": 26,
     "metadata": {},
     "output_type": "execute_result"
    }
   ],
   "source": [
    "data['store_location'].unique()"
   ]
  },
  {
   "cell_type": "code",
   "execution_count": 27,
   "id": "1ce677ea",
   "metadata": {},
   "outputs": [
    {
     "data": {
      "text/plain": [
       "9"
      ]
     },
     "execution_count": 27,
     "metadata": {},
     "output_type": "execute_result"
    }
   ],
   "source": [
    "#checking the number of unique product categories\n",
    "data['product_category'].nunique()"
   ]
  },
  {
   "cell_type": "code",
   "execution_count": 28,
   "id": "2bfaacfd",
   "metadata": {},
   "outputs": [
    {
     "data": {
      "text/plain": [
       "29"
      ]
     },
     "execution_count": 28,
     "metadata": {},
     "output_type": "execute_result"
    }
   ],
   "source": [
    "#checking the number of products\n",
    "data['product_type'].nunique()"
   ]
  },
  {
   "cell_type": "markdown",
   "id": "1eb2c29c",
   "metadata": {},
   "source": [
    "# DATA ANALYSIS"
   ]
  },
  {
   "cell_type": "markdown",
   "id": "1553303e",
   "metadata": {},
   "source": [
    "# Calculating KPI's"
   ]
  },
  {
   "cell_type": "markdown",
   "id": "65399985",
   "metadata": {},
   "source": [
    "# Total orders"
   ]
  },
  {
   "cell_type": "code",
   "execution_count": 29,
   "id": "35a7febf",
   "metadata": {},
   "outputs": [
    {
     "data": {
      "text/plain": [
       "149116"
      ]
     },
     "execution_count": 29,
     "metadata": {},
     "output_type": "execute_result"
    }
   ],
   "source": [
    "#calculate total orders\n",
    "total_orders = data['transaction_id'].count()\n",
    "total_orders"
   ]
  },
  {
   "cell_type": "markdown",
   "id": "485dfb56",
   "metadata": {},
   "source": [
    "# Total sales"
   ]
  },
  {
   "cell_type": "code",
   "execution_count": 30,
   "id": "b61724c6",
   "metadata": {},
   "outputs": [
    {
     "data": {
      "text/plain": [
       "214470"
      ]
     },
     "execution_count": 30,
     "metadata": {},
     "output_type": "execute_result"
    }
   ],
   "source": [
    "#calculated total sales\n",
    "total_sales = data['transaction_qty'].sum()\n",
    "total_sales\n"
   ]
  },
  {
   "cell_type": "markdown",
   "id": "b9d64392",
   "metadata": {},
   "source": [
    "# No of working days"
   ]
  },
  {
   "cell_type": "code",
   "execution_count": 31,
   "id": "371fc238",
   "metadata": {},
   "outputs": [
    {
     "data": {
      "text/plain": [
       "180"
      ]
     },
     "execution_count": 31,
     "metadata": {},
     "output_type": "execute_result"
    }
   ],
   "source": [
    "#calculate  total days\n",
    "no_of_days = (data['transaction_date'].max() - data['transaction_date'].min()).days\n",
    "no_of_days"
   ]
  },
  {
   "cell_type": "markdown",
   "id": "6e98b413",
   "metadata": {},
   "source": [
    "# Average order per day \n"
   ]
  },
  {
   "cell_type": "code",
   "execution_count": 32,
   "id": "891433c1",
   "metadata": {},
   "outputs": [
    {
     "data": {
      "text/plain": [
       "828.4222222222222"
      ]
     },
     "execution_count": 32,
     "metadata": {},
     "output_type": "execute_result"
    }
   ],
   "source": [
    "# Calculate the average order per day\n",
    "avg_orders_per_day = total_orders/no_of_days \n",
    "avg_orders_per_day"
   ]
  },
  {
   "cell_type": "markdown",
   "id": "8f5286aa",
   "metadata": {},
   "source": [
    "# Total Rvenue"
   ]
  },
  {
   "cell_type": "code",
   "execution_count": 33,
   "id": "6d529beb",
   "metadata": {},
   "outputs": [
    {
     "data": {
      "text/plain": [
       "698812.3300000002"
      ]
     },
     "execution_count": 33,
     "metadata": {},
     "output_type": "execute_result"
    }
   ],
   "source": [
    "#calculate the total revenue\n",
    "total_revenue = data['revenue'].sum()\n",
    "total_revenue"
   ]
  },
  {
   "cell_type": "markdown",
   "id": "bb0b7dec",
   "metadata": {},
   "source": [
    "# Average order analysis"
   ]
  },
  {
   "cell_type": "code",
   "execution_count": 34,
   "id": "c53b53b3",
   "metadata": {},
   "outputs": [
    {
     "data": {
      "text/plain": [
       "4.686367190643527"
      ]
     },
     "execution_count": 34,
     "metadata": {},
     "output_type": "execute_result"
    }
   ],
   "source": [
    "# calculate average odrder value\n",
    "aov = total_revenue/total_orders\n",
    "aov"
   ]
  },
  {
   "cell_type": "markdown",
   "id": "e6e35d58",
   "metadata": {},
   "source": [
    "# Order Analysis "
   ]
  },
  {
   "cell_type": "markdown",
   "id": "5b1a7d1c",
   "metadata": {},
   "source": [
    "# Hourly orders \n"
   ]
  },
  {
   "cell_type": "code",
   "execution_count": 35,
   "id": "a842b4da",
   "metadata": {},
   "outputs": [
    {
     "data": {
      "text/html": [
       "<div>\n",
       "<style scoped>\n",
       "    .dataframe tbody tr th:only-of-type {\n",
       "        vertical-align: middle;\n",
       "    }\n",
       "\n",
       "    .dataframe tbody tr th {\n",
       "        vertical-align: top;\n",
       "    }\n",
       "\n",
       "    .dataframe thead th {\n",
       "        text-align: right;\n",
       "    }\n",
       "</style>\n",
       "<table border=\"1\" class=\"dataframe\">\n",
       "  <thead>\n",
       "    <tr style=\"text-align: right;\">\n",
       "      <th></th>\n",
       "      <th>transaction_hour</th>\n",
       "      <th>total_orders</th>\n",
       "    </tr>\n",
       "  </thead>\n",
       "  <tbody>\n",
       "    <tr>\n",
       "      <th>0</th>\n",
       "      <td>6</td>\n",
       "      <td>4594</td>\n",
       "    </tr>\n",
       "    <tr>\n",
       "      <th>1</th>\n",
       "      <td>7</td>\n",
       "      <td>13428</td>\n",
       "    </tr>\n",
       "    <tr>\n",
       "      <th>2</th>\n",
       "      <td>8</td>\n",
       "      <td>17654</td>\n",
       "    </tr>\n",
       "    <tr>\n",
       "      <th>3</th>\n",
       "      <td>9</td>\n",
       "      <td>17764</td>\n",
       "    </tr>\n",
       "    <tr>\n",
       "      <th>4</th>\n",
       "      <td>10</td>\n",
       "      <td>18545</td>\n",
       "    </tr>\n",
       "    <tr>\n",
       "      <th>5</th>\n",
       "      <td>11</td>\n",
       "      <td>9766</td>\n",
       "    </tr>\n",
       "    <tr>\n",
       "      <th>6</th>\n",
       "      <td>12</td>\n",
       "      <td>8708</td>\n",
       "    </tr>\n",
       "    <tr>\n",
       "      <th>7</th>\n",
       "      <td>13</td>\n",
       "      <td>8714</td>\n",
       "    </tr>\n",
       "    <tr>\n",
       "      <th>8</th>\n",
       "      <td>14</td>\n",
       "      <td>8933</td>\n",
       "    </tr>\n",
       "    <tr>\n",
       "      <th>9</th>\n",
       "      <td>15</td>\n",
       "      <td>8979</td>\n",
       "    </tr>\n",
       "    <tr>\n",
       "      <th>10</th>\n",
       "      <td>16</td>\n",
       "      <td>9093</td>\n",
       "    </tr>\n",
       "    <tr>\n",
       "      <th>11</th>\n",
       "      <td>17</td>\n",
       "      <td>8745</td>\n",
       "    </tr>\n",
       "    <tr>\n",
       "      <th>12</th>\n",
       "      <td>18</td>\n",
       "      <td>7498</td>\n",
       "    </tr>\n",
       "    <tr>\n",
       "      <th>13</th>\n",
       "      <td>19</td>\n",
       "      <td>6092</td>\n",
       "    </tr>\n",
       "    <tr>\n",
       "      <th>14</th>\n",
       "      <td>20</td>\n",
       "      <td>603</td>\n",
       "    </tr>\n",
       "  </tbody>\n",
       "</table>\n",
       "</div>"
      ],
      "text/plain": [
       "    transaction_hour  total_orders\n",
       "0                  6          4594\n",
       "1                  7         13428\n",
       "2                  8         17654\n",
       "3                  9         17764\n",
       "4                 10         18545\n",
       "5                 11          9766\n",
       "6                 12          8708\n",
       "7                 13          8714\n",
       "8                 14          8933\n",
       "9                 15          8979\n",
       "10                16          9093\n",
       "11                17          8745\n",
       "12                18          7498\n",
       "13                19          6092\n",
       "14                20           603"
      ]
     },
     "execution_count": 35,
     "metadata": {},
     "output_type": "execute_result"
    }
   ],
   "source": [
    "#find the total orders by transaction hour \n",
    "hourly_orders = data.groupby(['transaction_hour'],as_index=False).agg(total_orders=('transaction_id', 'count'))\n",
    "hourly_orders"
   ]
  },
  {
   "cell_type": "code",
   "execution_count": 36,
   "id": "18a838b5",
   "metadata": {},
   "outputs": [
    {
     "data": {
      "image/png": "[encoded data removed]",
      "text/plain": [
       "<Figure size 1000x300 with 1 Axes>"
      ]
     },
     "metadata": {},
     "output_type": "display_data"
    }
   ],
   "source": [
    "#plot a chart of hourly orders \n",
    "fig, ax = plt.subplots(figsize=(10, 3))\n",
    "ax.bar(x=hourly_orders['transaction_hour'].astype(str),\n",
    "     height=hourly_orders ['total_orders'])\n",
    "\n",
    "#add title\n",
    "ax.set_title('Hourly_orders')\n",
    "\n",
    "#add x-axis lable\n",
    "ax.set_xlabel('transaction_hour')\n",
    "\n",
    "#remove spines\n",
    "ax.spines[['top', 'right', 'left']].set_visible(False)\n",
    "\n",
    "#remove y-axis\n",
    "ax.yaxis.set_visible(False)\n",
    "\n",
    "# add data lable\n",
    "for index,values in enumerate(hourly_orders['total_orders']):\n",
    "    ax.annotate(values, xy=(index, values+500),ha ='center' , va='center')\n",
    "                \n",
    "plt.show()\n"
   ]
  },
  {
   "cell_type": "markdown",
   "id": "ed1f7852",
   "metadata": {},
   "source": [
    "# Orders by day of week "
   ]
  },
  {
   "cell_type": "code",
   "execution_count": 37,
   "id": "28c12828",
   "metadata": {},
   "outputs": [
    {
     "data": {
      "text/html": [
       "<div>\n",
       "<style scoped>\n",
       "    .dataframe tbody tr th:only-of-type {\n",
       "        vertical-align: middle;\n",
       "    }\n",
       "\n",
       "    .dataframe tbody tr th {\n",
       "        vertical-align: top;\n",
       "    }\n",
       "\n",
       "    .dataframe thead th {\n",
       "        text-align: right;\n",
       "    }\n",
       "</style>\n",
       "<table border=\"1\" class=\"dataframe\">\n",
       "  <thead>\n",
       "    <tr style=\"text-align: right;\">\n",
       "      <th></th>\n",
       "      <th>day_of_week</th>\n",
       "      <th>day</th>\n",
       "      <th>total_orders</th>\n",
       "    </tr>\n",
       "  </thead>\n",
       "  <tbody>\n",
       "    <tr>\n",
       "      <th>0</th>\n",
       "      <td>0</td>\n",
       "      <td>Monday</td>\n",
       "      <td>21643</td>\n",
       "    </tr>\n",
       "    <tr>\n",
       "      <th>1</th>\n",
       "      <td>1</td>\n",
       "      <td>Tuesday</td>\n",
       "      <td>21202</td>\n",
       "    </tr>\n",
       "    <tr>\n",
       "      <th>2</th>\n",
       "      <td>2</td>\n",
       "      <td>Wednesday</td>\n",
       "      <td>21310</td>\n",
       "    </tr>\n",
       "    <tr>\n",
       "      <th>3</th>\n",
       "      <td>3</td>\n",
       "      <td>Thursday</td>\n",
       "      <td>21654</td>\n",
       "    </tr>\n",
       "    <tr>\n",
       "      <th>4</th>\n",
       "      <td>4</td>\n",
       "      <td>Friday</td>\n",
       "      <td>21701</td>\n",
       "    </tr>\n",
       "    <tr>\n",
       "      <th>5</th>\n",
       "      <td>5</td>\n",
       "      <td>Saturday</td>\n",
       "      <td>20510</td>\n",
       "    </tr>\n",
       "    <tr>\n",
       "      <th>6</th>\n",
       "      <td>6</td>\n",
       "      <td>Sunday</td>\n",
       "      <td>21096</td>\n",
       "    </tr>\n",
       "  </tbody>\n",
       "</table>\n",
       "</div>"
      ],
      "text/plain": [
       "   day_of_week        day  total_orders\n",
       "0            0     Monday         21643\n",
       "1            1    Tuesday         21202\n",
       "2            2  Wednesday         21310\n",
       "3            3   Thursday         21654\n",
       "4            4     Friday         21701\n",
       "5            5   Saturday         20510\n",
       "6            6     Sunday         21096"
      ]
     },
     "execution_count": 37,
     "metadata": {},
     "output_type": "execute_result"
    }
   ],
   "source": [
    "# calculate orders by the day of the week\n",
    "data.groupby(['day_of_week','day'] , as_index = False).agg(\n",
    "total_orders = ('transaction_id', 'count'))"
   ]
  },
  {
   "cell_type": "code",
   "execution_count": null,
   "id": "0ae82536",
   "metadata": {},
   "outputs": [],
   "source": [
    "# plot a bar chart of the order by day of thec week "
   ]
  },
  {
   "cell_type": "markdown",
   "id": "c35d97ea",
   "metadata": {},
   "source": [
    "# orders by Day of week and hour "
   ]
  },
  {
   "cell_type": "code",
   "execution_count": 39,
   "id": "ef8ebba6",
   "metadata": {},
   "outputs": [
    {
     "data": {
      "text/html": [
       "<div>\n",
       "<style scoped>\n",
       "    .dataframe tbody tr th:only-of-type {\n",
       "        vertical-align: middle;\n",
       "    }\n",
       "\n",
       "    .dataframe tbody tr th {\n",
       "        vertical-align: top;\n",
       "    }\n",
       "\n",
       "    .dataframe thead th {\n",
       "        text-align: right;\n",
       "    }\n",
       "</style>\n",
       "<table border=\"1\" class=\"dataframe\">\n",
       "  <thead>\n",
       "    <tr style=\"text-align: right;\">\n",
       "      <th>transaction_hour</th>\n",
       "      <th>6</th>\n",
       "      <th>7</th>\n",
       "      <th>8</th>\n",
       "      <th>9</th>\n",
       "      <th>10</th>\n",
       "      <th>11</th>\n",
       "      <th>12</th>\n",
       "      <th>13</th>\n",
       "      <th>14</th>\n",
       "      <th>15</th>\n",
       "      <th>16</th>\n",
       "      <th>17</th>\n",
       "      <th>18</th>\n",
       "      <th>19</th>\n",
       "      <th>20</th>\n",
       "    </tr>\n",
       "    <tr>\n",
       "      <th>day_of_week</th>\n",
       "      <th></th>\n",
       "      <th></th>\n",
       "      <th></th>\n",
       "      <th></th>\n",
       "      <th></th>\n",
       "      <th></th>\n",
       "      <th></th>\n",
       "      <th></th>\n",
       "      <th></th>\n",
       "      <th></th>\n",
       "      <th></th>\n",
       "      <th></th>\n",
       "      <th></th>\n",
       "      <th></th>\n",
       "      <th></th>\n",
       "    </tr>\n",
       "  </thead>\n",
       "  <tbody>\n",
       "    <tr>\n",
       "      <th>0</th>\n",
       "      <td>661</td>\n",
       "      <td>1992</td>\n",
       "      <td>2482</td>\n",
       "      <td>2494</td>\n",
       "      <td>2612</td>\n",
       "      <td>1478</td>\n",
       "      <td>1308</td>\n",
       "      <td>1267</td>\n",
       "      <td>1376</td>\n",
       "      <td>1319</td>\n",
       "      <td>1355</td>\n",
       "      <td>1302</td>\n",
       "      <td>1077</td>\n",
       "      <td>846</td>\n",
       "      <td>74</td>\n",
       "    </tr>\n",
       "    <tr>\n",
       "      <th>1</th>\n",
       "      <td>489</td>\n",
       "      <td>1846</td>\n",
       "      <td>2783</td>\n",
       "      <td>2753</td>\n",
       "      <td>2846</td>\n",
       "      <td>1301</td>\n",
       "      <td>1126</td>\n",
       "      <td>1152</td>\n",
       "      <td>1224</td>\n",
       "      <td>1254</td>\n",
       "      <td>1227</td>\n",
       "      <td>1232</td>\n",
       "      <td>957</td>\n",
       "      <td>872</td>\n",
       "      <td>140</td>\n",
       "    </tr>\n",
       "    <tr>\n",
       "      <th>2</th>\n",
       "      <td>698</td>\n",
       "      <td>1873</td>\n",
       "      <td>2540</td>\n",
       "      <td>2527</td>\n",
       "      <td>2596</td>\n",
       "      <td>1468</td>\n",
       "      <td>1226</td>\n",
       "      <td>1311</td>\n",
       "      <td>1257</td>\n",
       "      <td>1270</td>\n",
       "      <td>1272</td>\n",
       "      <td>1235</td>\n",
       "      <td>1118</td>\n",
       "      <td>836</td>\n",
       "      <td>83</td>\n",
       "    </tr>\n",
       "    <tr>\n",
       "      <th>3</th>\n",
       "      <td>731</td>\n",
       "      <td>1959</td>\n",
       "      <td>2389</td>\n",
       "      <td>2375</td>\n",
       "      <td>2570</td>\n",
       "      <td>1470</td>\n",
       "      <td>1307</td>\n",
       "      <td>1317</td>\n",
       "      <td>1341</td>\n",
       "      <td>1323</td>\n",
       "      <td>1406</td>\n",
       "      <td>1311</td>\n",
       "      <td>1125</td>\n",
       "      <td>970</td>\n",
       "      <td>60</td>\n",
       "    </tr>\n",
       "    <tr>\n",
       "      <th>4</th>\n",
       "      <td>707</td>\n",
       "      <td>1989</td>\n",
       "      <td>2544</td>\n",
       "      <td>2707</td>\n",
       "      <td>2761</td>\n",
       "      <td>1405</td>\n",
       "      <td>1231</td>\n",
       "      <td>1199</td>\n",
       "      <td>1265</td>\n",
       "      <td>1295</td>\n",
       "      <td>1257</td>\n",
       "      <td>1226</td>\n",
       "      <td>1149</td>\n",
       "      <td>886</td>\n",
       "      <td>80</td>\n",
       "    </tr>\n",
       "    <tr>\n",
       "      <th>5</th>\n",
       "      <td>592</td>\n",
       "      <td>1877</td>\n",
       "      <td>2438</td>\n",
       "      <td>2345</td>\n",
       "      <td>2551</td>\n",
       "      <td>1307</td>\n",
       "      <td>1279</td>\n",
       "      <td>1187</td>\n",
       "      <td>1226</td>\n",
       "      <td>1287</td>\n",
       "      <td>1287</td>\n",
       "      <td>1178</td>\n",
       "      <td>1019</td>\n",
       "      <td>846</td>\n",
       "      <td>91</td>\n",
       "    </tr>\n",
       "    <tr>\n",
       "      <th>6</th>\n",
       "      <td>716</td>\n",
       "      <td>1892</td>\n",
       "      <td>2478</td>\n",
       "      <td>2563</td>\n",
       "      <td>2609</td>\n",
       "      <td>1337</td>\n",
       "      <td>1231</td>\n",
       "      <td>1281</td>\n",
       "      <td>1244</td>\n",
       "      <td>1231</td>\n",
       "      <td>1289</td>\n",
       "      <td>1261</td>\n",
       "      <td>1053</td>\n",
       "      <td>836</td>\n",
       "      <td>75</td>\n",
       "    </tr>\n",
       "  </tbody>\n",
       "</table>\n",
       "</div>"
      ],
      "text/plain": [
       "transaction_hour   6     7     8     9     10    11    12    13    14    15  \\\n",
       "day_of_week                                                                   \n",
       "0                 661  1992  2482  2494  2612  1478  1308  1267  1376  1319   \n",
       "1                 489  1846  2783  2753  2846  1301  1126  1152  1224  1254   \n",
       "2                 698  1873  2540  2527  2596  1468  1226  1311  1257  1270   \n",
       "3                 731  1959  2389  2375  2570  1470  1307  1317  1341  1323   \n",
       "4                 707  1989  2544  2707  2761  1405  1231  1199  1265  1295   \n",
       "5                 592  1877  2438  2345  2551  1307  1279  1187  1226  1287   \n",
       "6                 716  1892  2478  2563  2609  1337  1231  1281  1244  1231   \n",
       "\n",
       "transaction_hour    16    17    18   19   20  \n",
       "day_of_week                                   \n",
       "0                 1355  1302  1077  846   74  \n",
       "1                 1227  1232   957  872  140  \n",
       "2                 1272  1235  1118  836   83  \n",
       "3                 1406  1311  1125  970   60  \n",
       "4                 1257  1226  1149  886   80  \n",
       "5                 1287  1178  1019  846   91  \n",
       "6                 1289  1261  1053  836   75  "
      ]
     },
     "execution_count": 39,
     "metadata": {},
     "output_type": "execute_result"
    }
   ],
   "source": [
    "#plot a heat map of the orders by day of week and transaction hour\n",
    "day_hour_orders=data.pivot_table(\n",
    " index='day_of_week',\n",
    " columns='transaction_hour',\n",
    " values = 'transaction_id',\n",
    " aggfunc='count'\n",
    "                )\n",
    "day_hour_orders"
   ]
  },
  {
   "cell_type": "code",
   "execution_count": 41,
   "id": "9593296e",
   "metadata": {},
   "outputs": [
    {
     "data": {
      "image/png": "[encoded data removed]",
      "text/plain": [
       "<Figure size 1000x400 with 2 Axes>"
      ]
     },
     "metadata": {},
     "output_type": "display_data"
    }
   ],
   "source": [
    "#ploting a heat map \n",
    "fig,ax = plt.subplots(figsize=[10,4])\n",
    "\n",
    "sns.heatmap(day_hour_orders,cmap='Blues')\n",
    "\n",
    "plt.show()"
   ]
  },
  {
   "cell_type": "markdown",
   "id": "c1beec9f",
   "metadata": {},
   "source": [
    "# Monthly orders"
   ]
  },
  {
   "cell_type": "code",
   "execution_count": 43,
   "id": "f230c6dd",
   "metadata": {},
   "outputs": [
    {
     "data": {
      "text/html": [
       "<div>\n",
       "<style scoped>\n",
       "    .dataframe tbody tr th:only-of-type {\n",
       "        vertical-align: middle;\n",
       "    }\n",
       "\n",
       "    .dataframe tbody tr th {\n",
       "        vertical-align: top;\n",
       "    }\n",
       "\n",
       "    .dataframe thead th {\n",
       "        text-align: right;\n",
       "    }\n",
       "</style>\n",
       "<table border=\"1\" class=\"dataframe\">\n",
       "  <thead>\n",
       "    <tr style=\"text-align: right;\">\n",
       "      <th></th>\n",
       "      <th>transaction_month</th>\n",
       "      <th>transaction_monthname</th>\n",
       "      <th>total_orders</th>\n",
       "    </tr>\n",
       "  </thead>\n",
       "  <tbody>\n",
       "    <tr>\n",
       "      <th>0</th>\n",
       "      <td>1</td>\n",
       "      <td>January</td>\n",
       "      <td>17314</td>\n",
       "    </tr>\n",
       "    <tr>\n",
       "      <th>1</th>\n",
       "      <td>2</td>\n",
       "      <td>February</td>\n",
       "      <td>16359</td>\n",
       "    </tr>\n",
       "    <tr>\n",
       "      <th>2</th>\n",
       "      <td>3</td>\n",
       "      <td>March</td>\n",
       "      <td>21229</td>\n",
       "    </tr>\n",
       "    <tr>\n",
       "      <th>3</th>\n",
       "      <td>4</td>\n",
       "      <td>April</td>\n",
       "      <td>25335</td>\n",
       "    </tr>\n",
       "    <tr>\n",
       "      <th>4</th>\n",
       "      <td>5</td>\n",
       "      <td>May</td>\n",
       "      <td>33527</td>\n",
       "    </tr>\n",
       "    <tr>\n",
       "      <th>5</th>\n",
       "      <td>6</td>\n",
       "      <td>June</td>\n",
       "      <td>35352</td>\n",
       "    </tr>\n",
       "  </tbody>\n",
       "</table>\n",
       "</div>"
      ],
      "text/plain": [
       "   transaction_month transaction_monthname  total_orders\n",
       "0                  1               January         17314\n",
       "1                  2              February         16359\n",
       "2                  3                 March         21229\n",
       "3                  4                 April         25335\n",
       "4                  5                   May         33527\n",
       "5                  6                  June         35352"
      ]
     },
     "execution_count": 43,
     "metadata": {},
     "output_type": "execute_result"
    }
   ],
   "source": [
    "# calculate orders by month \n",
    "monthly_orders=data.groupby(['transaction_month', 'transaction_monthname' ], as_index=False).agg(\n",
    " total_orders=('transaction_id', 'count'))\n",
    "monthly_orders"
   ]
  },
  {
   "cell_type": "code",
   "execution_count": 44,
   "id": "2d5ca953",
   "metadata": {},
   "outputs": [
    {
     "data": {
      "image/png": "[encoded data removed]",
      "text/plain": [
       "<Figure size 500x300 with 1 Axes>"
      ]
     },
     "metadata": {},
     "output_type": "display_data"
    }
   ],
   "source": [
    "# plot a bar chart of monthly orders\n",
    "fig, ax = plt.subplots(figsize=(5, 3))\n",
    "\n",
    "ax.bar(x=monthly_orders['transaction_monthname'].str[0:3],height=monthly_orders ['total_orders'])\n",
    "\n",
    "#remove borders\n",
    "ax.spines[['top', 'right', 'left']].set_visible(False)\n",
    "\n",
    "#remove y-axis\n",
    "ax.yaxis.set_visible(False)\n",
    "\n",
    "#add y-lable and x-lable\n",
    "ax.set_xlabel('Month')\n",
    "\n",
    "#add title\n",
    "ax.set_title('Total orders by month')\n",
    "\n",
    "# add data annotaion\n",
    "for index,values in enumerate(monthly_orders['total_orders']):\n",
    "    ax.annotate(str(values/1000)[0:4]+'k', xy=(index, values+1000),ha ='center' , va='center')\n",
    "                \n",
    "plt.show()\n",
    "\n"
   ]
  },
  {
   "cell_type": "markdown",
   "id": "34543fc7",
   "metadata": {},
   "source": [
    "# Orders by store"
   ]
  },
  {
   "cell_type": "code",
   "execution_count": 47,
   "id": "cf1494b7",
   "metadata": {},
   "outputs": [
    {
     "data": {
      "text/html": [
       "<div>\n",
       "<style scoped>\n",
       "    .dataframe tbody tr th:only-of-type {\n",
       "        vertical-align: middle;\n",
       "    }\n",
       "\n",
       "    .dataframe tbody tr th {\n",
       "        vertical-align: top;\n",
       "    }\n",
       "\n",
       "    .dataframe thead th {\n",
       "        text-align: right;\n",
       "    }\n",
       "</style>\n",
       "<table border=\"1\" class=\"dataframe\">\n",
       "  <thead>\n",
       "    <tr style=\"text-align: right;\">\n",
       "      <th></th>\n",
       "      <th>store_id</th>\n",
       "      <th>store_location</th>\n",
       "      <th>total_orders</th>\n",
       "    </tr>\n",
       "  </thead>\n",
       "  <tbody>\n",
       "    <tr>\n",
       "      <th>2</th>\n",
       "      <td>8</td>\n",
       "      <td>Hell's Kitchen</td>\n",
       "      <td>50735</td>\n",
       "    </tr>\n",
       "    <tr>\n",
       "      <th>0</th>\n",
       "      <td>3</td>\n",
       "      <td>Astoria</td>\n",
       "      <td>50599</td>\n",
       "    </tr>\n",
       "    <tr>\n",
       "      <th>1</th>\n",
       "      <td>5</td>\n",
       "      <td>Lower Manhattan</td>\n",
       "      <td>47782</td>\n",
       "    </tr>\n",
       "  </tbody>\n",
       "</table>\n",
       "</div>"
      ],
      "text/plain": [
       "   store_id   store_location  total_orders\n",
       "2         8   Hell's Kitchen         50735\n",
       "0         3          Astoria         50599\n",
       "1         5  Lower Manhattan         47782"
      ]
     },
     "execution_count": 47,
     "metadata": {},
     "output_type": "execute_result"
    }
   ],
   "source": [
    "#claculate the orders by store\n",
    "store_orders = data.groupby(['store_id','store_location'], as_index=False).agg(\n",
    " total_orders=('transaction_id','count')).sort_values(\n",
    "   'total_orders', ascending=False)\n",
    "store_orders"
   ]
  },
  {
   "cell_type": "code",
   "execution_count": 49,
   "id": "a38fd254",
   "metadata": {},
   "outputs": [
    {
     "data": {
      "image/png": "[encoded data removed]",
      "text/plain": [
       "<Figure size 500x300 with 1 Axes>"
      ]
     },
     "metadata": {},
     "output_type": "display_data"
    }
   ],
   "source": [
    "# plot a pie chart of orders by stores \n",
    "fig,ax  = plt.subplots(figsize=[5,3])\n",
    "\n",
    "ax.pie(store_orders['total_orders'],autopct='%.0f%%',startangle=90, labels=store_orders['store_location'])\n",
    "\n",
    "#add title\n",
    "ax.set_title('Percentage of orders by stores')\n",
    "plt.show()"
   ]
  },
  {
   "cell_type": "markdown",
   "id": "4e54fd1a",
   "metadata": {},
   "source": [
    "# orders by product category\n"
   ]
  },
  {
   "cell_type": "code",
   "execution_count": 51,
   "id": "e4a40471",
   "metadata": {},
   "outputs": [
    {
     "data": {
      "text/html": [
       "<div>\n",
       "<style scoped>\n",
       "    .dataframe tbody tr th:only-of-type {\n",
       "        vertical-align: middle;\n",
       "    }\n",
       "\n",
       "    .dataframe tbody tr th {\n",
       "        vertical-align: top;\n",
       "    }\n",
       "\n",
       "    .dataframe thead th {\n",
       "        text-align: right;\n",
       "    }\n",
       "</style>\n",
       "<table border=\"1\" class=\"dataframe\">\n",
       "  <thead>\n",
       "    <tr style=\"text-align: right;\">\n",
       "      <th></th>\n",
       "      <th>product_category</th>\n",
       "      <th>total_orders</th>\n",
       "    </tr>\n",
       "  </thead>\n",
       "  <tbody>\n",
       "    <tr>\n",
       "      <th>2</th>\n",
       "      <td>Coffee</td>\n",
       "      <td>58416</td>\n",
       "    </tr>\n",
       "    <tr>\n",
       "      <th>8</th>\n",
       "      <td>Tea</td>\n",
       "      <td>45449</td>\n",
       "    </tr>\n",
       "    <tr>\n",
       "      <th>0</th>\n",
       "      <td>Bakery</td>\n",
       "      <td>22796</td>\n",
       "    </tr>\n",
       "    <tr>\n",
       "      <th>4</th>\n",
       "      <td>Drinking Chocolate</td>\n",
       "      <td>11468</td>\n",
       "    </tr>\n",
       "    <tr>\n",
       "      <th>5</th>\n",
       "      <td>Flavours</td>\n",
       "      <td>6790</td>\n",
       "    </tr>\n",
       "    <tr>\n",
       "      <th>3</th>\n",
       "      <td>Coffee beans</td>\n",
       "      <td>1753</td>\n",
       "    </tr>\n",
       "    <tr>\n",
       "      <th>6</th>\n",
       "      <td>Loose Tea</td>\n",
       "      <td>1210</td>\n",
       "    </tr>\n",
       "    <tr>\n",
       "      <th>1</th>\n",
       "      <td>Branded</td>\n",
       "      <td>747</td>\n",
       "    </tr>\n",
       "    <tr>\n",
       "      <th>7</th>\n",
       "      <td>Packaged Chocolate</td>\n",
       "      <td>487</td>\n",
       "    </tr>\n",
       "  </tbody>\n",
       "</table>\n",
       "</div>"
      ],
      "text/plain": [
       "     product_category  total_orders\n",
       "2              Coffee         58416\n",
       "8                 Tea         45449\n",
       "0              Bakery         22796\n",
       "4  Drinking Chocolate         11468\n",
       "5            Flavours          6790\n",
       "3        Coffee beans          1753\n",
       "6           Loose Tea          1210\n",
       "1             Branded           747\n",
       "7  Packaged Chocolate           487"
      ]
     },
     "execution_count": 51,
     "metadata": {},
     "output_type": "execute_result"
    }
   ],
   "source": [
    "# calculate the orders by product category\n",
    "data.groupby(['product_category'],as_index= False).agg(\n",
    "  total_orders = ('transaction_id', 'count')).sort_values(\n",
    "  'total_orders', ascending=False)"
   ]
  },
  {
   "cell_type": "markdown",
   "id": "30998efa",
   "metadata": {},
   "source": [
    "# Top 10 products by orders  "
   ]
  },
  {
   "cell_type": "code",
   "execution_count": 54,
   "id": "9d94e4b2",
   "metadata": {},
   "outputs": [
    {
     "data": {
      "text/html": [
       "<div>\n",
       "<style scoped>\n",
       "    .dataframe tbody tr th:only-of-type {\n",
       "        vertical-align: middle;\n",
       "    }\n",
       "\n",
       "    .dataframe tbody tr th {\n",
       "        vertical-align: top;\n",
       "    }\n",
       "\n",
       "    .dataframe thead th {\n",
       "        text-align: right;\n",
       "    }\n",
       "</style>\n",
       "<table border=\"1\" class=\"dataframe\">\n",
       "  <thead>\n",
       "    <tr style=\"text-align: right;\">\n",
       "      <th></th>\n",
       "      <th>product_type</th>\n",
       "      <th>total_orders</th>\n",
       "    </tr>\n",
       "  </thead>\n",
       "  <tbody>\n",
       "    <tr>\n",
       "      <th>4</th>\n",
       "      <td>Brewed Chai tea</td>\n",
       "      <td>17183</td>\n",
       "    </tr>\n",
       "    <tr>\n",
       "      <th>13</th>\n",
       "      <td>Gourmet brewed coffee</td>\n",
       "      <td>16912</td>\n",
       "    </tr>\n",
       "    <tr>\n",
       "      <th>0</th>\n",
       "      <td>Barista Espresso</td>\n",
       "      <td>16403</td>\n",
       "    </tr>\n",
       "    <tr>\n",
       "      <th>17</th>\n",
       "      <td>Hot chocolate</td>\n",
       "      <td>11468</td>\n",
       "    </tr>\n",
       "    <tr>\n",
       "      <th>3</th>\n",
       "      <td>Brewed Black tea</td>\n",
       "      <td>11350</td>\n",
       "    </tr>\n",
       "    <tr>\n",
       "      <th>6</th>\n",
       "      <td>Brewed herbal tea</td>\n",
       "      <td>11245</td>\n",
       "    </tr>\n",
       "    <tr>\n",
       "      <th>27</th>\n",
       "      <td>Scone</td>\n",
       "      <td>10173</td>\n",
       "    </tr>\n",
       "    <tr>\n",
       "      <th>22</th>\n",
       "      <td>Organic brewed coffee</td>\n",
       "      <td>8489</td>\n",
       "    </tr>\n",
       "    <tr>\n",
       "      <th>10</th>\n",
       "      <td>Drip coffee</td>\n",
       "      <td>8477</td>\n",
       "    </tr>\n",
       "    <tr>\n",
       "      <th>25</th>\n",
       "      <td>Premium brewed coffee</td>\n",
       "      <td>8135</td>\n",
       "    </tr>\n",
       "  </tbody>\n",
       "</table>\n",
       "</div>"
      ],
      "text/plain": [
       "             product_type  total_orders\n",
       "4         Brewed Chai tea         17183\n",
       "13  Gourmet brewed coffee         16912\n",
       "0        Barista Espresso         16403\n",
       "17          Hot chocolate         11468\n",
       "3        Brewed Black tea         11350\n",
       "6       Brewed herbal tea         11245\n",
       "27                  Scone         10173\n",
       "22  Organic brewed coffee          8489\n",
       "10            Drip coffee          8477\n",
       "25  Premium brewed coffee          8135"
      ]
     },
     "execution_count": 54,
     "metadata": {},
     "output_type": "execute_result"
    }
   ],
   "source": [
    "# calculate the top 10 products by orders \n",
    "data.groupby(['product_type'], as_index= False).agg(\n",
    "  total_orders = ('transaction_id','count')).sort_values(\n",
    "  'total_orders', ascending=False).head(10)"
   ]
  },
  {
   "cell_type": "markdown",
   "id": "a7cb809e",
   "metadata": {},
   "source": [
    "# REVENUE ANALYSIS"
   ]
  },
  {
   "cell_type": "code",
   "execution_count": 56,
   "id": "0e806a8e",
   "metadata": {},
   "outputs": [
    {
     "data": {
      "text/html": [
       "<div>\n",
       "<style scoped>\n",
       "    .dataframe tbody tr th:only-of-type {\n",
       "        vertical-align: middle;\n",
       "    }\n",
       "\n",
       "    .dataframe tbody tr th {\n",
       "        vertical-align: top;\n",
       "    }\n",
       "\n",
       "    .dataframe thead th {\n",
       "        text-align: right;\n",
       "    }\n",
       "</style>\n",
       "<table border=\"1\" class=\"dataframe\">\n",
       "  <thead>\n",
       "    <tr style=\"text-align: right;\">\n",
       "      <th></th>\n",
       "      <th>transaction_month</th>\n",
       "      <th>transaction_monthname</th>\n",
       "      <th>total_revenue</th>\n",
       "    </tr>\n",
       "  </thead>\n",
       "  <tbody>\n",
       "    <tr>\n",
       "      <th>0</th>\n",
       "      <td>1</td>\n",
       "      <td>January</td>\n",
       "      <td>81677.74</td>\n",
       "    </tr>\n",
       "    <tr>\n",
       "      <th>1</th>\n",
       "      <td>2</td>\n",
       "      <td>February</td>\n",
       "      <td>76145.19</td>\n",
       "    </tr>\n",
       "    <tr>\n",
       "      <th>2</th>\n",
       "      <td>3</td>\n",
       "      <td>March</td>\n",
       "      <td>98834.68</td>\n",
       "    </tr>\n",
       "    <tr>\n",
       "      <th>3</th>\n",
       "      <td>4</td>\n",
       "      <td>April</td>\n",
       "      <td>118941.08</td>\n",
       "    </tr>\n",
       "    <tr>\n",
       "      <th>4</th>\n",
       "      <td>5</td>\n",
       "      <td>May</td>\n",
       "      <td>156727.76</td>\n",
       "    </tr>\n",
       "    <tr>\n",
       "      <th>5</th>\n",
       "      <td>6</td>\n",
       "      <td>June</td>\n",
       "      <td>166485.88</td>\n",
       "    </tr>\n",
       "  </tbody>\n",
       "</table>\n",
       "</div>"
      ],
      "text/plain": [
       "   transaction_month transaction_monthname  total_revenue\n",
       "0                  1               January       81677.74\n",
       "1                  2              February       76145.19\n",
       "2                  3                 March       98834.68\n",
       "3                  4                 April      118941.08\n",
       "4                  5                   May      156727.76\n",
       "5                  6                  June      166485.88"
      ]
     },
     "execution_count": 56,
     "metadata": {},
     "output_type": "execute_result"
    }
   ],
   "source": [
    "#calculate revenue by months\n",
    "data.groupby(['transaction_month','transaction_monthname'], as_index=False).agg(\n",
    "   total_revenue=('revenue','sum'))"
   ]
  },
  {
   "cell_type": "markdown",
   "id": "abfe3294",
   "metadata": {},
   "source": [
    "# Rvenue by product category"
   ]
  },
  {
   "cell_type": "code",
   "execution_count": 58,
   "id": "da83b687",
   "metadata": {},
   "outputs": [
    {
     "data": {
      "text/html": [
       "<div>\n",
       "<style scoped>\n",
       "    .dataframe tbody tr th:only-of-type {\n",
       "        vertical-align: middle;\n",
       "    }\n",
       "\n",
       "    .dataframe tbody tr th {\n",
       "        vertical-align: top;\n",
       "    }\n",
       "\n",
       "    .dataframe thead th {\n",
       "        text-align: right;\n",
       "    }\n",
       "</style>\n",
       "<table border=\"1\" class=\"dataframe\">\n",
       "  <thead>\n",
       "    <tr style=\"text-align: right;\">\n",
       "      <th></th>\n",
       "      <th>product_category</th>\n",
       "      <th>total_revenue</th>\n",
       "    </tr>\n",
       "  </thead>\n",
       "  <tbody>\n",
       "    <tr>\n",
       "      <th>2</th>\n",
       "      <td>Coffee</td>\n",
       "      <td>269952.45</td>\n",
       "    </tr>\n",
       "    <tr>\n",
       "      <th>8</th>\n",
       "      <td>Tea</td>\n",
       "      <td>196405.95</td>\n",
       "    </tr>\n",
       "    <tr>\n",
       "      <th>0</th>\n",
       "      <td>Bakery</td>\n",
       "      <td>82315.64</td>\n",
       "    </tr>\n",
       "    <tr>\n",
       "      <th>4</th>\n",
       "      <td>Drinking Chocolate</td>\n",
       "      <td>72416.00</td>\n",
       "    </tr>\n",
       "    <tr>\n",
       "      <th>3</th>\n",
       "      <td>Coffee beans</td>\n",
       "      <td>40085.25</td>\n",
       "    </tr>\n",
       "    <tr>\n",
       "      <th>1</th>\n",
       "      <td>Branded</td>\n",
       "      <td>13607.00</td>\n",
       "    </tr>\n",
       "    <tr>\n",
       "      <th>6</th>\n",
       "      <td>Loose Tea</td>\n",
       "      <td>11213.60</td>\n",
       "    </tr>\n",
       "    <tr>\n",
       "      <th>5</th>\n",
       "      <td>Flavours</td>\n",
       "      <td>8408.80</td>\n",
       "    </tr>\n",
       "    <tr>\n",
       "      <th>7</th>\n",
       "      <td>Packaged Chocolate</td>\n",
       "      <td>4407.64</td>\n",
       "    </tr>\n",
       "  </tbody>\n",
       "</table>\n",
       "</div>"
      ],
      "text/plain": [
       "     product_category  total_revenue\n",
       "2              Coffee      269952.45\n",
       "8                 Tea      196405.95\n",
       "0              Bakery       82315.64\n",
       "4  Drinking Chocolate       72416.00\n",
       "3        Coffee beans       40085.25\n",
       "1             Branded       13607.00\n",
       "6           Loose Tea       11213.60\n",
       "5            Flavours        8408.80\n",
       "7  Packaged Chocolate        4407.64"
      ]
     },
     "execution_count": 58,
     "metadata": {},
     "output_type": "execute_result"
    }
   ],
   "source": [
    "# calculate revenue by product category \n",
    "data.groupby(['product_category'], as_index=False).agg(\n",
    "   total_revenue=('revenue','sum')).sort_values(\n",
    " 'total_revenue', ascending=False)"
   ]
  },
  {
   "cell_type": "markdown",
   "id": "ccf53f54",
   "metadata": {},
   "source": [
    "# Top 10 product by  revenue "
   ]
  },
  {
   "cell_type": "code",
   "execution_count": 59,
   "id": "e89c5471",
   "metadata": {},
   "outputs": [
    {
     "data": {
      "text/html": [
       "<div>\n",
       "<style scoped>\n",
       "    .dataframe tbody tr th:only-of-type {\n",
       "        vertical-align: middle;\n",
       "    }\n",
       "\n",
       "    .dataframe tbody tr th {\n",
       "        vertical-align: top;\n",
       "    }\n",
       "\n",
       "    .dataframe thead th {\n",
       "        text-align: right;\n",
       "    }\n",
       "</style>\n",
       "<table border=\"1\" class=\"dataframe\">\n",
       "  <thead>\n",
       "    <tr style=\"text-align: right;\">\n",
       "      <th></th>\n",
       "      <th>product_type</th>\n",
       "      <th>total_revenue</th>\n",
       "    </tr>\n",
       "  </thead>\n",
       "  <tbody>\n",
       "    <tr>\n",
       "      <th>0</th>\n",
       "      <td>Barista Espresso</td>\n",
       "      <td>91406.20</td>\n",
       "    </tr>\n",
       "    <tr>\n",
       "      <th>4</th>\n",
       "      <td>Brewed Chai tea</td>\n",
       "      <td>77081.95</td>\n",
       "    </tr>\n",
       "    <tr>\n",
       "      <th>17</th>\n",
       "      <td>Hot chocolate</td>\n",
       "      <td>72416.00</td>\n",
       "    </tr>\n",
       "    <tr>\n",
       "      <th>13</th>\n",
       "      <td>Gourmet brewed coffee</td>\n",
       "      <td>70034.60</td>\n",
       "    </tr>\n",
       "    <tr>\n",
       "      <th>3</th>\n",
       "      <td>Brewed Black tea</td>\n",
       "      <td>47932.00</td>\n",
       "    </tr>\n",
       "    <tr>\n",
       "      <th>6</th>\n",
       "      <td>Brewed herbal tea</td>\n",
       "      <td>47539.50</td>\n",
       "    </tr>\n",
       "    <tr>\n",
       "      <th>25</th>\n",
       "      <td>Premium brewed coffee</td>\n",
       "      <td>38781.15</td>\n",
       "    </tr>\n",
       "    <tr>\n",
       "      <th>22</th>\n",
       "      <td>Organic brewed coffee</td>\n",
       "      <td>37746.50</td>\n",
       "    </tr>\n",
       "    <tr>\n",
       "      <th>27</th>\n",
       "      <td>Scone</td>\n",
       "      <td>36866.12</td>\n",
       "    </tr>\n",
       "    <tr>\n",
       "      <th>10</th>\n",
       "      <td>Drip coffee</td>\n",
       "      <td>31984.00</td>\n",
       "    </tr>\n",
       "  </tbody>\n",
       "</table>\n",
       "</div>"
      ],
      "text/plain": [
       "             product_type  total_revenue\n",
       "0        Barista Espresso       91406.20\n",
       "4         Brewed Chai tea       77081.95\n",
       "17          Hot chocolate       72416.00\n",
       "13  Gourmet brewed coffee       70034.60\n",
       "3        Brewed Black tea       47932.00\n",
       "6       Brewed herbal tea       47539.50\n",
       "25  Premium brewed coffee       38781.15\n",
       "22  Organic brewed coffee       37746.50\n",
       "27                  Scone       36866.12\n",
       "10            Drip coffee       31984.00"
      ]
     },
     "execution_count": 59,
     "metadata": {},
     "output_type": "execute_result"
    }
   ],
   "source": [
    "# Top 10 product  revenue generating products \n",
    "data.groupby(['product_type'], as_index=False).agg(\n",
    "   total_revenue=('revenue','sum')).sort_values(\n",
    " 'total_revenue', ascending=False).head(10)"
   ]
  },
  {
   "cell_type": "markdown",
   "id": "3a4138c7",
   "metadata": {},
   "source": [
    "# DATA COMMUNICATION"
   ]
  },
  {
   "cell_type": "code",
   "execution_count": null,
   "id": "68ce9d78",
   "metadata": {},
   "outputs": [],
   "source": []
  }
 ],
 "metadata": {
  "kernelspec": {
   "display_name": "Python 3 (ipykernel)",
   "language": "python",
   "name": "python3"
  },
  "language_info": {
   "codemirror_mode": {
    "name": "ipython",
    "version": 3
   },
   "file_extension": ".py",
   "mimetype": "text/x-python",
   "name": "python",
   "nbconvert_exporter": "python",
   "pygments_lexer": "ipython3",
   "version": "3.11.5"
  }
 },
 "nbformat": 4,
 "nbformat_minor": 5
}
